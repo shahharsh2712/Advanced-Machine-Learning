{
 "cells": [
  {
   "cell_type": "markdown",
   "metadata": {},
   "source": [
    "Name: Nancy, Ritta, Harsh"
   ]
  },
  {
   "cell_type": "code",
   "execution_count": 1,
   "metadata": {
    "pycharm": {
     "name": "#%%\n"
    }
   },
   "outputs": [],
   "source": [
    "import numpy as np\n",
    "import pandas as pd\n",
    "import matplotlib.pyplot as plt\n",
    "import math\n",
    "from random import seed\n",
    "from random import random\n",
    "from math import exp"
   ]
  },
  {
   "cell_type": "markdown",
   "metadata": {
    "pycharm": {
     "name": "#%% md\n"
    }
   },
   "source": [
    "## Problem 1\n",
    "### 1.1"
   ]
  },
  {
   "cell_type": "code",
   "execution_count": 2,
   "metadata": {
    "pycharm": {
     "name": "#%%\n"
    }
   },
   "outputs": [
    {
     "data": {
      "image/png": "[encoded data removed]",
      "text/plain": [
       "<Figure size 432x288 with 1 Axes>"
      ]
     },
     "metadata": {
      "needs_background": "light"
     },
     "output_type": "display_data"
    }
   ],
   "source": [
    "da = pd.read_csv('movieData.csv')\n",
    "X = np.c_[np.ones(len(da)), da.iloc[:, :2]]\n",
    "y = np.array(da.Watched)\n",
    "\n",
    "# print the original graph\n",
    "plt.figure()\n",
    "for index, x in enumerate(X):\n",
    "    if y[index] == -1:\n",
    "        plt.scatter(x[1], x[2], c='m', marker='o')\n",
    "    else:\n",
    "        plt.scatter(x[1], x[2], c='r', marker='x')\n",
    "\n",
    "plt.xlabel('Level of Violence')\n",
    "plt.ylabel('Critics Rating')\n",
    "plt.show()"
   ]
  },
  {
   "cell_type": "code",
   "execution_count": 3,
   "metadata": {
    "pycharm": {
     "name": "#%%\n"
    }
   },
   "outputs": [
    {
     "name": "stdout",
     "output_type": "stream",
     "text": [
      "[-11.   -5.    7.4] 42\n"
     ]
    }
   ],
   "source": [
    "def sign_function(z):\n",
    "    return -1 if (z < 0) else 1\n",
    "\n",
    "W = np.zeros(3)\n",
    "\n",
    "dis = 0\n",
    "interation = 1\n",
    "for i in range(1000):\n",
    "    for idx, x_i in enumerate(X):\n",
    "        if sign_function(x_i@W) != y[idx]:# or dis>3:\n",
    "            W_new = W + y[idx]*x_i\n",
    "            dis = math.dist(W_new, W)\n",
    "            W = W_new\n",
    "            interation += 1\n",
    "            break\n",
    "print(W, interation)"
   ]
  },
  {
   "cell_type": "markdown",
   "metadata": {
    "pycharm": {
     "name": "#%% md\n"
    }
   },
   "source": [
    "### 1.2"
   ]
  },
  {
   "cell_type": "code",
   "execution_count": 4,
   "metadata": {
    "pycharm": {
     "name": "#%%\n"
    }
   },
   "outputs": [
    {
     "data": {
      "image/png": "[encoded data removed]",
      "text/plain": [
       "<Figure size 432x288 with 1 Axes>"
      ]
     },
     "metadata": {
      "needs_background": "light"
     },
     "output_type": "display_data"
    }
   ],
   "source": [
    "x1 = [0, 6]\n",
    "x2 = []\n",
    "for i_x1 in x1:\n",
    "    i_x2 =(-W[0] - W[1] * i_x1)/W[2]\n",
    "    x2.append(i_x2)\n",
    "\n",
    "plt.figure()\n",
    "# plt.plot(dots[:,0], dots[:,1], label='Decision Boundary')\n",
    "plt.plot(x1, x2, label='Decision Boundary')\n",
    "for index, x in enumerate(X):\n",
    "    if y[index] == -1:\n",
    "        plt.scatter(x[1],x[2], c='m', marker='o')\n",
    "    else:\n",
    "        plt.scatter(x[1],x[2], c='r', marker='x')\n",
    "\n",
    "plt.legend(loc = 'best')\n",
    "plt.xlabel('Level of Violence')\n",
    "plt.ylabel('Critics Rating')\n",
    "plt.show()"
   ]
  },
  {
   "cell_type": "markdown",
   "metadata": {
    "pycharm": {
     "name": "#%% md\n"
    }
   },
   "source": [
    "## Problem 2"
   ]
  },
  {
   "cell_type": "markdown",
   "metadata": {
    "pycharm": {
     "name": "#%% md\n"
    }
   },
   "source": [
    "### 2.1"
   ]
  },
  {
   "cell_type": "code",
   "execution_count": 5,
   "metadata": {
    "pycharm": {
     "name": "#%%\n"
    }
   },
   "outputs": [],
   "source": [
    "da2 = np.array(pd.read_csv('siCoData.csv'))\n",
    "X = da2[:,0].reshape(-1,1) # inputs\n",
    "y = da2[:,1].reshape(-1,1) # outputs, making this a column vector"
   ]
  },
  {
   "cell_type": "code",
   "execution_count": 16,
   "metadata": {},
   "outputs": [
    {
     "data": {
      "text/plain": [
       "8.0"
      ]
     },
     "execution_count": 16,
     "metadata": {},
     "output_type": "execute_result"
    }
   ],
   "source": [
    "d = 1 # num of feature\n",
    "neuron_threshold = (len(X)/10-1)/(d+2) # calculate the number of neuron in the hidden layer to be used according to N > 10w\n",
    "neuron_threshold"
   ]
  },
  {
   "cell_type": "code",
   "execution_count": 6,
   "metadata": {
    "pycharm": {
     "name": "#%%\n"
    }
   },
   "outputs": [],
   "source": [
    "# activation for the 1st layer\n",
    "def tanh(x):\n",
    "    return (np.exp(x) - np.exp(-x)) / (np.exp(x) + np.exp(-x))"
   ]
  },
  {
   "cell_type": "code",
   "execution_count": 7,
   "metadata": {
    "pycharm": {
     "name": "#%%\n"
    }
   },
   "outputs": [],
   "source": [
    "def three_layer_back_propagation(W1, W2, pred, target, hidden_nodes_val, input_nodes_val, lr):\n",
    "\n",
    "    dw_l1_1h = 2 * (pred - target) * W2 * ((1-np.insert(tanh(hidden_nodes_val[1:]) ** 2, 0, 1)).reshape(-1,1)) # linear problem, so derivative start with S instead of theta(S)\n",
    "    dw_l1 = np.outer(input_nodes_val, dw_l1_1h[1:]) # matrix multiply\n",
    "    W1_new = W1 - lr * dw_l1 # update weight\n",
    "\n",
    "    dw_l2 = 2 * (pred - target) * (np.insert(tanh(hidden_nodes_val[1:]), 0, 1).reshape(-1,1)) # linear problem, so derivative start with S instead of theta(S)\n",
    "    W2_new = W2 - lr * dw_l2  # update weight\n",
    "    return W1_new, W2_new"
   ]
  },
  {
   "cell_type": "code",
   "execution_count": 8,
   "metadata": {
    "pycharm": {
     "name": "#%%\n"
    }
   },
   "outputs": [],
   "source": [
    "def my_three_layer_SGD_BP(X, W1, W2, learning_rate, error_threshold, max_iteration): # X not include \"1\" column\n",
    "\n",
    "    lr = learning_rate\n",
    "    error_track = []\n",
    "    Weights = []\n",
    "    E_in = error_threshold+1 # initial E_in\n",
    "\n",
    "    input_layer_outputs = np.c_[np.ones(X.shape[0]),X]\n",
    "\n",
    "    for i in range(max_iteration):\n",
    "\n",
    "        for n in range(len(X)):\n",
    "            # forward phase\n",
    "            hidden_layer_outputs = np.c_[np.ones(X.shape[0]), tanh(np.dot(input_layer_outputs, W1))]\n",
    "            output_layer_outputs = np.dot(hidden_layer_outputs, W2) # calculate the pred value\n",
    "\n",
    "            E_in = np.average((output_layer_outputs - y) **2) # Average error of all dps\n",
    "            error_track.append(E_in)\n",
    "            Weights.append([W1,W2])\n",
    "\n",
    "            # update weights with self defined bp function\n",
    "            W1, W2 = three_layer_back_propagation(W1, W2, output_layer_outputs[n], y[n], hidden_layer_outputs[n], input_layer_outputs[n], lr)\n",
    "\n",
    "            if E_in <= error_threshold:\n",
    "                break\n",
    "\n",
    "        if E_in <= error_threshold:\n",
    "            break\n",
    "\n",
    "    return error_track, Weights"
   ]
  },
  {
   "cell_type": "code",
   "execution_count": 9,
   "metadata": {
    "pycharm": {
     "name": "#%%\n"
    }
   },
   "outputs": [],
   "source": [
    "# choose a random seed for reproducible results\n",
    "np.random.seed(18)\n",
    "\n",
    "errors =[]\n",
    "weights = []\n",
    "for j_nodes in range(1, 9): # try different number of neuron in hidden layer\n",
    "    # number of nodes in the hidden layer\n",
    "    node_num_hidden = j_nodes # not include bias\n",
    "    W1 = 2*np.random.random((X.shape[1] + 1, node_num_hidden)) - 1\n",
    "    W2 = 2*np.random.random((node_num_hidden + 1, y.shape[1])) - 1\n",
    "\n",
    "    train = my_three_layer_SGD_BP(X, W1, W2, 0.1, 0.02, 50)\n",
    "    # min_Ein_by_hidden_nodes.append([j_nodes] + list(train[:2]))\n",
    "    # res.append(train)\n",
    "    errors.extend(train[0])\n",
    "    weights.extend(train[1])"
   ]
  },
  {
   "cell_type": "code",
   "execution_count": 10,
   "metadata": {
    "pycharm": {
     "name": "#%%\n"
    }
   },
   "outputs": [
    {
     "data": {
      "text/plain": [
       "0.01903038364349462"
      ]
     },
     "execution_count": 10,
     "metadata": {},
     "output_type": "execute_result"
    }
   ],
   "source": [
    "idx = np.argmin(np.array(errors)) # search the min idx\n",
    "min_Ein = np.array(errors)[idx]\n",
    "min_Ein"
   ]
  },
  {
   "cell_type": "code",
   "execution_count": 11,
   "metadata": {
    "pycharm": {
     "name": "#%%\n"
    }
   },
   "outputs": [
    {
     "name": "stdout",
     "output_type": "stream",
     "text": [
      "Minimal Ein:  0.01903038364349462 \n",
      "num_of_iterations:  27527 \n",
      "\n",
      "Weight\n",
      "1st layer:\n",
      " [[ 0.04594177  1.1770418  -1.0766707 ]\n",
      " [-2.12126988 -1.66813637 -1.5030455 ]] \n",
      "\n",
      "2nd layer\n",
      " [[-0.04646818]\n",
      " [-2.18175827]\n",
      " [ 1.28020052]\n",
      " [ 1.14250147]]\n"
     ]
    }
   ],
   "source": [
    "w_select = weights[idx]\n",
    "W1_select = w_select[0]\n",
    "W2_select = w_select[1]\n",
    "print('Minimal Ein: ', min_Ein, '\\nnum_of_iterations: ', idx, '\\n\\nWeight\\n1st layer:\\n', W1_select, '\\n\\n2nd layer\\n', W2_select)"
   ]
  },
  {
   "cell_type": "markdown",
   "metadata": {
    "pycharm": {
     "name": "#%% md\n"
    }
   },
   "source": [
    "### 2.2"
   ]
  },
  {
   "cell_type": "code",
   "execution_count": 12,
   "metadata": {
    "pycharm": {
     "name": "#%%\n"
    }
   },
   "outputs": [],
   "source": [
    "input_layer_outputs = np.c_[np.ones(X.shape[0]),X]\n",
    "hidden_layer_outputs = np.c_[np.ones(X.shape[0]), tanh(np.dot(input_layer_outputs, W1_select))]\n",
    "output_layer_outputs = np.dot(hidden_layer_outputs, W2_select) # cal the pred value with selected weights"
   ]
  },
  {
   "cell_type": "code",
   "execution_count": 13,
   "metadata": {
    "pycharm": {
     "name": "#%%\n"
    }
   },
   "outputs": [
    {
     "data": {
      "image/png": "[encoded data removed]",
      "text/plain": [
       "<Figure size 432x288 with 1 Axes>"
      ]
     },
     "metadata": {
      "needs_background": "light"
     },
     "output_type": "display_data"
    }
   ],
   "source": [
    "plt.plot(X, y, linestyle='none', marker='o')\n",
    "plt.show()"
   ]
  },
  {
   "cell_type": "code",
   "execution_count": 14,
   "metadata": {
    "pycharm": {
     "name": "#%%\n"
    }
   },
   "outputs": [
    {
     "data": {
      "image/png": "[encoded data removed]",
      "text/plain": [
       "<Figure size 432x288 with 1 Axes>"
      ]
     },
     "metadata": {
      "needs_background": "light"
     },
     "output_type": "display_data"
    }
   ],
   "source": [
    "plt.plot(X, output_layer_outputs, linestyle='none', marker='o')\n",
    "plt.show()"
   ]
  },
  {
   "cell_type": "code",
   "execution_count": null,
   "metadata": {
    "pycharm": {
     "name": "#%%\n"
    }
   },
   "outputs": [],
   "source": []
  }
 ],
 "metadata": {
  "kernelspec": {
   "display_name": "Python 3 (ipykernel)",
   "language": "python",
   "name": "python3"
  },
  "language_info": {
   "codemirror_mode": {
    "name": "ipython",
    "version": 3
   },
   "file_extension": ".py",
   "mimetype": "text/x-python",
   "name": "python",
   "nbconvert_exporter": "python",
   "pygments_lexer": "ipython3",
   "version": "3.9.10"
  },
  "toc": {
   "base_numbering": 1,
   "nav_menu": {},
   "number_sections": true,
   "sideBar": true,
   "skip_h1_title": false,
   "title_cell": "Table of Contents",
   "title_sidebar": "Contents",
   "toc_cell": false,
   "toc_position": {},
   "toc_section_display": true,
   "toc_window_display": false
  }
 },
 "nbformat": 4,
 "nbformat_minor": 1
}
